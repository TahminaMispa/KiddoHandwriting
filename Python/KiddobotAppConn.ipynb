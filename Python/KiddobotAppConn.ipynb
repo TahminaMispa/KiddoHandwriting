{
 "cells": [
  {
   "cell_type": "code",
   "execution_count": 1,
   "metadata": {},
   "outputs": [],
   "source": [
    "import websocket\n",
    "try:\n",
    "    import thread\n",
    "except ImportError:\n",
    "    import _thread as thread\n",
    "import time\n",
    "import json"
   ]
  },
  {
   "cell_type": "markdown",
   "metadata": {},
   "source": [
    "### Command and Control android app \"Kiddobot\""
   ]
  },
  {
   "cell_type": "markdown",
   "metadata": {},
   "source": [
    "### Callback functions"
   ]
  },
  {
   "cell_type": "code",
   "execution_count": 2,
   "metadata": {},
   "outputs": [],
   "source": [
    "def on_message(ws, message):\n",
    "    print(message)\n",
    "\n",
    "def on_error(ws, error):\n",
    "    print(error)\n",
    "\n",
    "def on_close(ws):\n",
    "    print(\"### closed ###\")\n",
    "\n",
    "def on_open(ws):\n",
    "    print('onopen')"
   ]
  },
  {
   "cell_type": "markdown",
   "metadata": {},
   "source": [
    "### Create Connection with the app\n",
    "\n",
    "<b> Double press on the app screen to get ip address </b>"
   ]
  },
  {
   "cell_type": "code",
   "execution_count": 5,
   "metadata": {},
   "outputs": [],
   "source": [
    "websocket.enableTrace(True)\n",
    "ws = websocket.WebSocketApp(\"ws://192.168.43.132:8000\",  on_message = on_message,  on_error = on_error, on_close = on_close)\n",
    "ws.on_open = on_open"
   ]
  },
  {
   "cell_type": "code",
   "execution_count": 6,
   "metadata": {},
   "outputs": [
    {
     "data": {
      "text/plain": [
       "2736"
      ]
     },
     "execution_count": 6,
     "metadata": {},
     "output_type": "execute_result"
    },
    {
     "name": "stderr",
     "output_type": "stream",
     "text": [
      "--- request header ---\n",
      "GET / HTTP/1.1\n",
      "Upgrade: websocket\n",
      "Host: 192.168.43.132:8000\n",
      "Origin: http://192.168.43.132:8000\n",
      "Sec-WebSocket-Key: 0AlLDYqvd9XH7m0CDenLBw==\n",
      "Sec-WebSocket-Version: 13\n",
      "Connection: upgrade\n",
      "\n",
      "\n",
      "-----------------------\n",
      "--- response header ---\n",
      "HTTP/1.1 101 Switching Protocols\n",
      "Connection: Upgrade\n",
      "Upgrade: websocket\n",
      "Sec-WebSocket-Accept: Fi8tX5RDLpupmqLVDIFrZiipxW4=\n",
      "-----------------------\n"
     ]
    },
    {
     "name": "stdout",
     "output_type": "stream",
     "text": [
      "onopen\n",
      "{\"data\":\"tts_completed\"}\n"
     ]
    }
   ],
   "source": [
    "def run(*args):\n",
    "        ws.run_forever()\n",
    "thread.start_new_thread(run, ())"
   ]
  },
  {
   "cell_type": "markdown",
   "metadata": {},
   "source": [
    "### Speak to app"
   ]
  },
  {
   "cell_type": "code",
   "execution_count": 16,
   "metadata": {},
   "outputs": [
    {
     "name": "stderr",
     "output_type": "stream",
     "text": [
      "send: b'\\x81\\xc9\\xc7;l;\\xbc\\x19\\x18B\\xb7^N\\x01\\xe7\\x19\\x18O\\xb4\\x19@\\x1b\\xe5_\\rO\\xa6\\x19V\\x1b\\xe5g\\x19\\x0b\\xfe\\x03Zg\\xb2\\x0bUZ\\xa2g\\x19\\x0b\\xfeY\\n\\x1b\\x9bN\\\\\\x02\\xa5\\x0b0N\\xf7\\x02\\x0fY\\xe7g\\x19\\x0b\\xfeZ\\x0fg\\xb2\\x0bU\\x02\\xa1\\x15L\\x19\\xba'\n"
     ]
    },
    {
     "name": "stdout",
     "output_type": "stream",
     "text": [
      "Sent= {\"type\": \"tts\", \"data\": \"\\u0986\\u09ae\\u09bf \\u09b0\\u09cb \\u09ac\\u099f. \"}\n",
      "{\"data\":\"ToTTS=আমি রো বট. \"}\n",
      "{\"data\":\"tts_completed\"}\n"
     ]
    }
   ],
   "source": [
    "data={'type':'tts', 'data': u'আমি রো বট. '}\n",
    "data = json.dumps(data)\n",
    "ws.send(data)\n",
    "print(\"Sent=\",data)"
   ]
  },
  {
   "cell_type": "code",
   "execution_count": 9,
   "metadata": {},
   "outputs": [
    {
     "name": "stderr",
     "output_type": "stream",
     "text": [
      "send: b'\\x81\\xb7\\xe8FxS\\x93d\\x0c*\\x98#Zi\\xc8d\\x0c\\'\\x9bdTs\\xca\"\\x19\\'\\x89dBs\\xcaf$&\\xd8\\x7f\\x1ak\\xc8\\x1a\\rc\\xd1$H\\x0f\\x9dvA0\\xdff$&\\xd8\\x7f@f\\xc8d\\x05'\n"
     ]
    },
    {
     "name": "stdout",
     "output_type": "stream",
     "text": [
      "Sent= {\"type\": \"tts\", \"data\": \" \\u09b8 \\u09b0\\u09c7 \\u0985 \"}\n",
      "{\"data\":\"ToTTS= স রে অ \"}\n",
      "{\"data\":\"tts_completed\"}\n"
     ]
    }
   ],
   "source": [
    "data={'type':'tts', 'data': u' স রে অ '}\n",
    "data = json.dumps(data)\n",
    "ws.send(data)\n",
    "print(\"Sent=\",data)"
   ]
  },
  {
   "cell_type": "markdown",
   "metadata": {},
   "source": [
    "### Speech recognition"
   ]
  },
  {
   "cell_type": "code",
   "execution_count": 20,
   "metadata": {},
   "outputs": [
    {
     "name": "stderr",
     "output_type": "stream",
     "text": [
      "send: b'\\x81\\x8fvy\\x87r\\r[\\xf3\\x0b\\x06\\x1c\\xa5HV[\\xe6\\x01\\x04[\\xfa'\n"
     ]
    },
    {
     "name": "stdout",
     "output_type": "stream",
     "text": [
      "{\"data\":\"ToASR=null\"}\n",
      "{\"data\":\"ক\",\"datas\":\"[ক, খ, প, হ, ফ]\"}\n"
     ]
    }
   ],
   "source": [
    "data={'type':'asr' }\n",
    "datai = json.dumps(data)\n",
    "ws.send(datai)\n",
    "# print(\"Sent=\",datai)"
   ]
  },
  {
   "cell_type": "code",
   "execution_count": 21,
   "metadata": {},
   "outputs": [
    {
     "name": "stderr",
     "output_type": "stream",
     "text": [
      "send: b\"\\x81\\x8f;:2T@\\x18F-K_\\x10n\\x1b\\x18S'I\\x18O\"\n",
      "send: b'\\x81\\x9dY\\xba\\'\\xb3\"\\x98S\\xca)\\xdf\\x05\\x89y\\x98S\\xc7*\\x98\\x0b\\x93{\\xdeF\\xc78\\x98\\x1d\\x937\\xcfK\\xdf$'\n"
     ]
    },
    {
     "name": "stdout",
     "output_type": "stream",
     "text": [
      "Sent= {\"type\": \"tts\", \"data\": null}\n",
      "{\"data\":\"ToASR=null\"}\n",
      "{\"data\":\"ToTTS=null\"}\n",
      "{\"data\":\"tts_completed\"}\n",
      "{\"data\":\"_recog_error_\"}\n"
     ]
    },
    {
     "name": "stderr",
     "output_type": "stream",
     "text": [
      "send: b'\\x88\\x82\\xa2CO\\x8f\\xa1\\xab'\n"
     ]
    },
    {
     "name": "stdout",
     "output_type": "stream",
     "text": [
      "[WinError 10054] An existing connection was forcibly closed by the remote host\n",
      "### closed ###\n"
     ]
    }
   ],
   "source": [
    "data={'type':'tts', 'data': ws.send(datai)}\n",
    "data = json.dumps(data)\n",
    "ws.send(data)\n",
    "print(\"Sent=\",data)"
   ]
  },
  {
   "cell_type": "markdown",
   "metadata": {},
   "source": [
    "### Close Connection"
   ]
  },
  {
   "cell_type": "code",
   "execution_count": 11,
   "metadata": {},
   "outputs": [
    {
     "name": "stderr",
     "output_type": "stream",
     "text": [
      "send: b'\\x88\\x82\\xde\\xa8\\xf2\\x1d\\xdd@'\n"
     ]
    },
    {
     "name": "stdout",
     "output_type": "stream",
     "text": [
      "### closed ###\n"
     ]
    }
   ],
   "source": [
    "ws.close()"
   ]
  },
  {
   "cell_type": "code",
   "execution_count": null,
   "metadata": {},
   "outputs": [],
   "source": []
  }
 ],
 "metadata": {
  "kernelspec": {
   "display_name": "Python 3",
   "language": "python",
   "name": "python3"
  },
  "language_info": {
   "codemirror_mode": {
    "name": "ipython",
    "version": 3
   },
   "file_extension": ".py",
   "mimetype": "text/x-python",
   "name": "python",
   "nbconvert_exporter": "python",
   "pygments_lexer": "ipython3",
   "version": "3.7.6"
  }
 },
 "nbformat": 4,
 "nbformat_minor": 2
}
