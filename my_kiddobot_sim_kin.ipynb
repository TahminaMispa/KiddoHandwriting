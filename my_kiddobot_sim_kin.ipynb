{
 "cells": [
  {
   "cell_type": "code",
   "execution_count": 1,
   "metadata": {},
   "outputs": [],
   "source": [
    "import sys\n",
    "import time\n",
    "import numpy as np\n",
    "from kin2d import Kin2D \n",
    "from kiddobot import Kiddobot"
   ]
  },
  {
   "cell_type": "code",
   "execution_count": 2,
   "metadata": {},
   "outputs": [
    {
     "name": "stdout",
     "output_type": "stream",
     "text": [
      "Kiddobot class\n",
      "vrep simulated robot, version= March, 9, 2020\n",
      "Connected to remote API server\n"
     ]
    }
   ],
   "source": [
    "robot=Kiddobot()\n",
    "robot.start_sim()"
   ]
  },
  {
   "cell_type": "code",
   "execution_count": 3,
   "metadata": {},
   "outputs": [],
   "source": [
    "# robot.set_base_elbow(45, 60)"
   ]
  },
  {
   "cell_type": "code",
   "execution_count": 4,
   "metadata": {},
   "outputs": [
    {
     "data": {
      "text/plain": [
       "0"
      ]
     },
     "execution_count": 4,
     "metadata": {},
     "output_type": "execute_result"
    }
   ],
   "source": [
    "robot.go_def()"
   ]
  },
  {
   "cell_type": "code",
   "execution_count": 5,
   "metadata": {},
   "outputs": [
    {
     "name": "stdout",
     "output_type": "stream",
     "text": [
      "pen down to do\n"
     ]
    },
    {
     "data": {
      "text/plain": [
       "1"
      ]
     },
     "execution_count": 5,
     "metadata": {},
     "output_type": "execute_result"
    }
   ],
   "source": [
    "robot.pen_down()"
   ]
  },
  {
   "cell_type": "code",
   "execution_count": 6,
   "metadata": {},
   "outputs": [
    {
     "name": "stdout",
     "output_type": "stream",
     "text": [
      "pen up to do\n"
     ]
    },
    {
     "data": {
      "text/plain": [
       "0"
      ]
     },
     "execution_count": 6,
     "metadata": {},
     "output_type": "execute_result"
    }
   ],
   "source": [
    "robot.pen_up()"
   ]
  },
  {
   "cell_type": "code",
   "execution_count": 7,
   "metadata": {},
   "outputs": [
    {
     "name": "stdout",
     "output_type": "stream",
     "text": [
      "29.99998375935313 29.99983349519139\n"
     ]
    }
   ],
   "source": [
    "d, d2=robot.get_joint_pos()\n",
    "print(d, d2)"
   ]
  },
  {
   "cell_type": "code",
   "execution_count": null,
   "metadata": {},
   "outputs": [],
   "source": []
  },
  {
   "cell_type": "code",
   "execution_count": 118,
   "metadata": {},
   "outputs": [
    {
     "name": "stdout",
     "output_type": "stream",
     "text": [
      "connection closed...\n"
     ]
    }
   ],
   "source": [
    "robot.close()"
   ]
  },
  {
   "cell_type": "code",
   "execution_count": null,
   "metadata": {},
   "outputs": [],
   "source": []
  },
  {
   "cell_type": "markdown",
   "metadata": {},
   "source": [
    "#### Kin test"
   ]
  },
  {
   "cell_type": "code",
   "execution_count": 8,
   "metadata": {},
   "outputs": [
    {
     "name": "stdout",
     "output_type": "stream",
     "text": [
      "2D Kin. version= March, 9, 2020\n",
      "Link1= 200 mm  Link2= 180 mm\n"
     ]
    }
   ],
   "source": [
    "kin=Kin2D(200, 180, verbose=False)"
   ]
  },
  {
   "cell_type": "code",
   "execution_count": 80,
   "metadata": {},
   "outputs": [
    {
     "name": "stdout",
     "output_type": "stream",
     "text": [
      "x= 303.6402939007588  y= 206.29202842654973\n"
     ]
    }
   ],
   "source": [
    "x,y=kin.calcFK(20, 30)\n",
    "print('x=',x,' y=',y)"
   ]
  },
  {
   "cell_type": "code",
   "execution_count": 81,
   "metadata": {},
   "outputs": [],
   "source": [
    "sx = 23\n",
    "sy = 146"
   ]
  },
  {
   "cell_type": "code",
   "execution_count": 82,
   "metadata": {},
   "outputs": [
    {
     "name": "stdout",
     "output_type": "stream",
     "text": [
      "True 20.918796232550893 134.59997785363097\n"
     ]
    }
   ],
   "source": [
    "s, d1, d2=kin.calcIK(sx, sy)\n",
    "print(s, d1, d2)"
   ]
  },
  {
   "cell_type": "code",
   "execution_count": 83,
   "metadata": {},
   "outputs": [],
   "source": [
    "def go_to_xy(x, y):\n",
    "    s, d1, d2=kin.calcIK(x, y)\n",
    "    if not s:\n",
    "        return False\n",
    "    else:\n",
    "        robot.set_base_elbow(d1, d2)\n",
    "    return True"
   ]
  },
  {
   "cell_type": "code",
   "execution_count": 84,
   "metadata": {},
   "outputs": [],
   "source": [
    "# s, d1, d2=kin.calcIK(12121, 43)\n",
    "# print(s,d1, d2)"
   ]
  },
  {
   "cell_type": "code",
   "execution_count": 85,
   "metadata": {},
   "outputs": [
    {
     "data": {
      "text/plain": [
       "True"
      ]
     },
     "execution_count": 85,
     "metadata": {},
     "output_type": "execute_result"
    }
   ],
   "source": [
    "go_to_xy(sx, sy)"
   ]
  },
  {
   "cell_type": "code",
   "execution_count": 86,
   "metadata": {},
   "outputs": [
    {
     "name": "stdout",
     "output_type": "stream",
     "text": [
      "pen down to do\n"
     ]
    },
    {
     "data": {
      "text/plain": [
       "0"
      ]
     },
     "execution_count": 86,
     "metadata": {},
     "output_type": "execute_result"
    }
   ],
   "source": [
    "robot.pen_down()"
   ]
  },
  {
   "cell_type": "code",
   "execution_count": 87,
   "metadata": {},
   "outputs": [
    {
     "data": {
      "text/plain": [
       "True"
      ]
     },
     "execution_count": 87,
     "metadata": {},
     "output_type": "execute_result"
    }
   ],
   "source": [
    "go_to_xy(sx, sy)"
   ]
  },
  {
   "cell_type": "code",
   "execution_count": 88,
   "metadata": {},
   "outputs": [
    {
     "name": "stdout",
     "output_type": "stream",
     "text": [
      "pen up to do\n"
     ]
    },
    {
     "data": {
      "text/plain": [
       "0"
      ]
     },
     "execution_count": 88,
     "metadata": {},
     "output_type": "execute_result"
    }
   ],
   "source": [
    "robot.pen_up()"
   ]
  },
  {
   "cell_type": "code",
   "execution_count": 23,
   "metadata": {},
   "outputs": [
    {
     "data": {
      "text/plain": [
       "True"
      ]
     },
     "execution_count": 23,
     "metadata": {},
     "output_type": "execute_result"
    }
   ],
   "source": [
    "go_to_xy(x, y)"
   ]
  },
  {
   "cell_type": "code",
   "execution_count": 24,
   "metadata": {},
   "outputs": [
    {
     "data": {
      "text/plain": [
       "True"
      ]
     },
     "execution_count": 24,
     "metadata": {},
     "output_type": "execute_result"
    }
   ],
   "source": [
    "go_to_xy(50, 200)"
   ]
  },
  {
   "cell_type": "code",
   "execution_count": 25,
   "metadata": {},
   "outputs": [
    {
     "data": {
      "text/plain": [
       "True"
      ]
     },
     "execution_count": 25,
     "metadata": {},
     "output_type": "execute_result"
    }
   ],
   "source": [
    "go_to_xy(150, 200)"
   ]
  },
  {
   "cell_type": "code",
   "execution_count": 26,
   "metadata": {},
   "outputs": [],
   "source": [
    "x0=50\n",
    "y0=200"
   ]
  },
  {
   "cell_type": "code",
   "execution_count": 27,
   "metadata": {},
   "outputs": [],
   "source": [
    "def line_eq(m,c, x):\n",
    "    return m*x+c"
   ]
  },
  {
   "cell_type": "code",
   "execution_count": 28,
   "metadata": {},
   "outputs": [
    {
     "name": "stdout",
     "output_type": "stream",
     "text": [
      "[ 0  1  2  3  4  5  6  7  8  9 10 11 12 13 14 15 16 17 18 19 20 21 22 23\n",
      " 24 25 26 27 28 29 30 31 32 33 34 35 36 37 38 39 40 41 42 43 44 45 46 47\n",
      " 48 49]\n",
      "[ 0.   0.5  1.   1.5  2.   2.5  3.   3.5  4.   4.5  5.   5.5  6.   6.5\n",
      "  7.   7.5  8.   8.5  9.   9.5 10.  10.5 11.  11.5 12.  12.5 13.  13.5\n",
      " 14.  14.5 15.  15.5 16.  16.5 17.  17.5 18.  18.5 19.  19.5 20.  20.5\n",
      " 21.  21.5 22.  22.5 23.  23.5 24.  24.5]\n"
     ]
    }
   ],
   "source": [
    "npt=50\n",
    "xx=np.array( [i for i in range(npt)] )\n",
    "print(xx)\n",
    "yy=line_eq(0.5, 0, xx)\n",
    "print(yy)"
   ]
  },
  {
   "cell_type": "code",
   "execution_count": 29,
   "metadata": {},
   "outputs": [
    {
     "name": "stdout",
     "output_type": "stream",
     "text": [
      "[50 51 52 53 54 55 56 57 58 59 60 61 62 63 64 65 66 67 68 69 70 71 72 73\n",
      " 74 75 76 77 78 79 80 81 82 83 84 85 86 87 88 89 90 91 92 93 94 95 96 97\n",
      " 98 99]\n",
      "[200.  200.5 201.  201.5 202.  202.5 203.  203.5 204.  204.5 205.  205.5\n",
      " 206.  206.5 207.  207.5 208.  208.5 209.  209.5 210.  210.5 211.  211.5\n",
      " 212.  212.5 213.  213.5 214.  214.5 215.  215.5 216.  216.5 217.  217.5\n",
      " 218.  218.5 219.  219.5 220.  220.5 221.  221.5 222.  222.5 223.  223.5\n",
      " 224.  224.5]\n"
     ]
    }
   ],
   "source": [
    "nx=x0+xx\n",
    "ny=y0+yy\n",
    "print(nx)\n",
    "print(ny)"
   ]
  },
  {
   "cell_type": "code",
   "execution_count": 33,
   "metadata": {},
   "outputs": [
    {
     "name": "stdout",
     "output_type": "stream",
     "text": [
      "failed point= 0\n"
     ]
    }
   ],
   "source": [
    "ds=[]\n",
    "ds2=[]\n",
    "failed=0\n",
    "for ix, iy in zip(nx, ny):\n",
    "    s, d1, d2=kin.calcIK(ix, iy)\n",
    "    if s:\n",
    "        ds.append(d1)\n",
    "        ds2.append(d2)\n",
    "    else:\n",
    "        failed+=1\n",
    "print('failed point=',failed)"
   ]
  },
  {
   "cell_type": "code",
   "execution_count": 34,
   "metadata": {},
   "outputs": [],
   "source": [
    "# print(ds)\n",
    "# print(ds2)"
   ]
  },
  {
   "cell_type": "code",
   "execution_count": 35,
   "metadata": {},
   "outputs": [
    {
     "data": {
      "text/plain": [
       "True"
      ]
     },
     "execution_count": 35,
     "metadata": {},
     "output_type": "execute_result"
    }
   ],
   "source": [
    "go_to_xy(x0, y0)"
   ]
  },
  {
   "cell_type": "code",
   "execution_count": 36,
   "metadata": {},
   "outputs": [
    {
     "name": "stdout",
     "output_type": "stream",
     "text": [
      "pen down to do\n",
      "pen up to do\n"
     ]
    },
    {
     "data": {
      "text/plain": [
       "0"
      ]
     },
     "execution_count": 36,
     "metadata": {},
     "output_type": "execute_result"
    }
   ],
   "source": [
    "robot.pen_down()\n",
    "time.sleep(0.2)\n",
    "for di, di2 in zip(ds, ds2):\n",
    "    time.sleep(0.1)\n",
    "    robot.set_base_elbow(di, di2)\n",
    "    \n",
    "time.sleep(0.1)\n",
    "robot.pen_up()"
   ]
  },
  {
   "cell_type": "markdown",
   "metadata": {},
   "source": [
    "### ToDo : Write Trajectory generator function"
   ]
  },
  {
   "cell_type": "code",
   "execution_count": 110,
   "metadata": {},
   "outputs": [],
   "source": [
    "#y range: 150 300\n",
    "#x range: -150 150 \n",
    "xmin=-150\n",
    "ymin=120\n",
    "xd, yd=300, 200\n",
    "# go_to_xy(100, 300)"
   ]
  },
  {
   "cell_type": "code",
   "execution_count": 111,
   "metadata": {},
   "outputs": [
    {
     "data": {
      "text/plain": [
       "True"
      ]
     },
     "execution_count": 111,
     "metadata": {},
     "output_type": "execute_result"
    }
   ],
   "source": [
    "# go_to_xy(-150, 300)\n",
    "x=xmin\n",
    "y=ymin\n",
    "go_to_xy(x, y)"
   ]
  },
  {
   "cell_type": "code",
   "execution_count": 112,
   "metadata": {},
   "outputs": [],
   "source": [
    "x0,y0=-150, 150\n",
    "xm,ym=150, 300"
   ]
  },
  {
   "cell_type": "code",
   "execution_count": 113,
   "metadata": {},
   "outputs": [
    {
     "data": {
      "text/plain": [
       "range(-150, 150)"
      ]
     },
     "execution_count": 113,
     "metadata": {},
     "output_type": "execute_result"
    }
   ],
   "source": [
    "range(x0, xm)"
   ]
  },
  {
   "cell_type": "code",
   "execution_count": null,
   "metadata": {},
   "outputs": [],
   "source": []
  },
  {
   "cell_type": "code",
   "execution_count": 117,
   "metadata": {},
   "outputs": [
    {
     "name": "stdout",
     "output_type": "stream",
     "text": [
      "pen up to do\n",
      "pen down to do\n",
      "failed= 0\n"
     ]
    }
   ],
   "source": [
    "robot.pen_up()\n",
    "go_to_xy(x, y)\n",
    "\n",
    "x=xmin\n",
    "time.sleep(1)\n",
    "robot.pen_down()\n",
    "failed=0\n",
    "for ix in range(x, x+xd):\n",
    "    time.sleep(0.01) \n",
    "    s=go_to_xy(ix, y)\n",
    "    if not s:\n",
    "        failed+=s\n",
    "    else:\n",
    "        x=ix\n",
    "print('failed=',failed)"
   ]
  },
  {
   "cell_type": "code",
   "execution_count": 115,
   "metadata": {},
   "outputs": [
    {
     "name": "stdout",
     "output_type": "stream",
     "text": [
      "pen down to do\n",
      "failed= 0\n"
     ]
    }
   ],
   "source": [
    "# robot.pen_up()\n",
    "# go_to_xy(x0,y0)\n",
    "\n",
    "# time.sleep(1)\n",
    "robot.pen_down()\n",
    "failed=0\n",
    "for iy in range(y, y+yd):\n",
    "    time.sleep(0.01) \n",
    "    s=go_to_xy(x, iy)\n",
    "    if not s:\n",
    "        failed+=s\n",
    "    else:\n",
    "        y=iy\n",
    "print('failed=',failed)"
   ]
  },
  {
   "cell_type": "code",
   "execution_count": null,
   "metadata": {},
   "outputs": [],
   "source": []
  },
  {
   "cell_type": "markdown",
   "metadata": {},
   "source": [
    "### AutoRobot"
   ]
  },
  {
   "cell_type": "code",
   "execution_count": 31,
   "metadata": {},
   "outputs": [],
   "source": [
    "class AutoKiddobot():\n",
    "    def __init__(self):\n",
    "        print('Kiddobot sim and kin auto')\n",
    "        self.robot=Kiddobot()\n",
    "        self.kin=Kin2D(200, 180, verbose=False)\n",
    "        self.x0= 150\n",
    "        self.y0=120\n",
    "        self.xdist=-300\n",
    "        self.ydist=200\n",
    "        self.x=0\n",
    "        self.y=0\n",
    "        \n",
    "    def start(self):\n",
    "        self.robot.start_sim()\n",
    "    def go_to_xy(self, x, y):\n",
    "        s, d1, d2=self.kin.calcIK(x, y)\n",
    "        if not s:\n",
    "            return False\n",
    "        else:\n",
    "            self.robot.set_base_elbow(d1, d2)\n",
    "        self.x=x\n",
    "        self.y=y\n",
    "        return True\n",
    "    def get_current_xy(self):\n",
    "        d1, d2=self.robot.get_joint_pos()\n",
    "        x,y=self.kin.calcFK(d1, d2)\n",
    "        self.x=x\n",
    "        self.y=y\n",
    "        return x,y\n",
    "    def pen_up(self):\n",
    "        self.robot.pen_up()\n",
    "    def pen_down(self):\n",
    "        self.robot.pen_down()\n",
    "    def close(self):\n",
    "        self.robot.close()"
   ]
  },
  {
   "cell_type": "code",
   "execution_count": 32,
   "metadata": {},
   "outputs": [
    {
     "name": "stdout",
     "output_type": "stream",
     "text": [
      "Kiddobot sim and kin auto\n",
      "Kiddobot class\n",
      "2D Kin. version= March, 9, 2020\n",
      "Link1= 200 mm  Link2= 180 mm\n",
      "vrep simulated robot, version= March, 9, 2020\n",
      "Connected to remote API server\n"
     ]
    }
   ],
   "source": [
    "bot=AutoKiddobot()\n",
    "bot.start()"
   ]
  },
  {
   "cell_type": "code",
   "execution_count": 33,
   "metadata": {},
   "outputs": [
    {
     "data": {
      "text/plain": [
       "True"
      ]
     },
     "execution_count": 33,
     "metadata": {},
     "output_type": "execute_result"
    }
   ],
   "source": [
    "bot.go_to_xy(150, 200)"
   ]
  },
  {
   "cell_type": "code",
   "execution_count": 35,
   "metadata": {},
   "outputs": [
    {
     "data": {
      "text/plain": [
       "True"
      ]
     },
     "execution_count": 35,
     "metadata": {},
     "output_type": "execute_result"
    }
   ],
   "source": [
    "bot.go_to_xy(bot.x0, bot.y0)"
   ]
  },
  {
   "cell_type": "code",
   "execution_count": 38,
   "metadata": {},
   "outputs": [
    {
     "name": "stdout",
     "output_type": "stream",
     "text": [
      "connection closed...\n"
     ]
    }
   ],
   "source": [
    "bot.close()"
   ]
  },
  {
   "cell_type": "code",
   "execution_count": 37,
   "metadata": {},
   "outputs": [
    {
     "name": "stdout",
     "output_type": "stream",
     "text": [
      "150 120\n"
     ]
    }
   ],
   "source": [
    "print(bot.x, bot.y)"
   ]
  },
  {
   "cell_type": "code",
   "execution_count": null,
   "metadata": {},
   "outputs": [],
   "source": []
  },
  {
   "cell_type": "code",
   "execution_count": null,
   "metadata": {},
   "outputs": [],
   "source": []
  }
 ],
 "metadata": {
  "kernelspec": {
   "display_name": "Python 3",
   "language": "python",
   "name": "python3"
  },
  "language_info": {
   "codemirror_mode": {
    "name": "ipython",
    "version": 3
   },
   "file_extension": ".py",
   "mimetype": "text/x-python",
   "name": "python",
   "nbconvert_exporter": "python",
   "pygments_lexer": "ipython3",
   "version": "3.7.6"
  }
 },
 "nbformat": 4,
 "nbformat_minor": 2
}
