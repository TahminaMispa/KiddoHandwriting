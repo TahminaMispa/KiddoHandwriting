{
 "cells": [
  {
   "cell_type": "code",
   "execution_count": 79,
   "metadata": {},
   "outputs": [],
   "source": [
    "import numpy as np\n",
    "import os\n",
    "import matplotlib.pyplot as plt\n",
    "import cv2"
   ]
  },
  {
   "cell_type": "code",
   "execution_count": 80,
   "metadata": {},
   "outputs": [],
   "source": [
    "# Txt file read as string data. Convert string into array\n",
    "def cvrtarr(l):\n",
    "    arr=np.array([l])\n",
    "    n=len(arr)\n",
    "    for i in range(n):\n",
    "        p1=arr[i].strip().split(',')  #Remove extra space and comma\n",
    "        pts=[]\n",
    "        for item in p1:\n",
    "            item=float(item)\n",
    "            pts.append(item)\n",
    "        pts=np.array(pts)\n",
    "    pts=np.array(pts)\n",
    "    return pts"
   ]
  },
  {
   "cell_type": "code",
   "execution_count": 81,
   "metadata": {},
   "outputs": [],
   "source": [
    "# Seperate x and y coordinate for ploting\n",
    "def xycvrt(data):\n",
    "    x=[]\n",
    "    y=[]\n",
    "    for i in range(len(data)):\n",
    "        if(i%2)==0:\n",
    "            x.append(data[i])\n",
    "        elif(1%2)!=0:\n",
    "            y.append(data[i])\n",
    "\n",
    "    x=np.array(x)\n",
    "    y=np.array(y)\n",
    "    return x,y"
   ]
  },
  {
   "cell_type": "code",
   "execution_count": 82,
   "metadata": {},
   "outputs": [
    {
     "data": {
      "text/plain": [
       "'G:\\\\Kiddo_Handwritting\\\\segmented_known_shape\\\\Segmented_known_shape_coordinate'"
      ]
     },
     "execution_count": 82,
     "metadata": {},
     "output_type": "execute_result"
    }
   ],
   "source": [
    "BASE_DIR = os.path.dirname(os.path.abspath('Segmented_known_shape_coordinate'))\n",
    "path_dir=os.path.join(BASE_DIR,\"Segmented_known_shape_coordinate\")\n",
    "path_dir"
   ]
  },
  {
   "cell_type": "code",
   "execution_count": 83,
   "metadata": {},
   "outputs": [],
   "source": [
    "\n",
    "for root,dirs,files in os.walk(path_dir):\n",
    "    for file in files:\n",
    "        name=file\n",
    "\n",
    "        if file.endswith('txt'):\n",
    "            path=os.path.join(root,file)\n",
    "            with open (path) as file:\n",
    "                line=file.readlines()\n",
    "            for i in range(line):\n",
    "                data=cvrtarr(line[i])\n",
    "                x,y=xycvrt(data)\n",
    "                \n",
    "#               plt.plot(x,-y)\n",
    "# #             plt.savefig('known_shape_ploting_image\\\\'+str(name)+'.png',dpi=300, bbox_inches='tight')\n",
    "#             plt.show()\n",
    "\n",
    "            "
   ]
  },
  {
   "cell_type": "code",
   "execution_count": null,
   "metadata": {},
   "outputs": [],
   "source": []
  }
 ],
 "metadata": {
  "kernelspec": {
   "display_name": "Python 3",
   "language": "python",
   "name": "python3"
  },
  "language_info": {
   "codemirror_mode": {
    "name": "ipython",
    "version": 3
   },
   "file_extension": ".py",
   "mimetype": "text/x-python",
   "name": "python",
   "nbconvert_exporter": "python",
   "pygments_lexer": "ipython3",
   "version": "3.7.6"
  }
 },
 "nbformat": 4,
 "nbformat_minor": 4
}
