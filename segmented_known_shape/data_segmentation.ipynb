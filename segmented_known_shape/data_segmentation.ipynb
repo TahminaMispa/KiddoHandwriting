{
 "cells": [
  {
   "cell_type": "code",
   "execution_count": 125,
   "metadata": {},
   "outputs": [],
   "source": [
    "import numpy as np\n",
    "import matplotlib.pyplot as plt"
   ]
  },
  {
   "cell_type": "code",
   "execution_count": 349,
   "metadata": {},
   "outputs": [],
   "source": [
    "def cvrtarr(line):\n",
    "    arr=np.array(line)\n",
    "    n=len(arr)\n",
    "    for i in range(n):\n",
    "        p1=arr[i].strip().split(',')\n",
    "        pts=[]\n",
    "        for item in p1:\n",
    "            item=float(item)\n",
    "            pts.append(item)\n",
    "        pts=np.array(pts)\n",
    "    pts=np.array(pts)\n",
    "    return pts\n",
    "\n",
    "\n",
    "def xycvrt(data):\n",
    "    x=[]\n",
    "    y=[]\n",
    "    for i in range(len(data)):\n",
    "        if(i%2)==0:\n",
    "            x.append(data[i])\n",
    "        elif(1%2)!=0:\n",
    "            y.append(data[i])\n",
    "\n",
    "    x=np.array(x)\n",
    "    y=np.array(y)\n",
    "    return x,y"
   ]
  },
  {
   "cell_type": "code",
   "execution_count": 354,
   "metadata": {},
   "outputs": [],
   "source": [
    "fn='KnownShapeCoordinate\\\\I.txt'\n",
    "with open (fn) as file:\n",
    "    line=file.readlines()\n",
    "data=cvrtarr(line)\n",
    "x,y=xycvrt(data)"
   ]
  },
  {
   "cell_type": "code",
   "execution_count": 355,
   "metadata": {},
   "outputs": [
    {
     "data": {
      "image/png": "[encoded data removed]",
      "text/plain": [
       "<Figure size 432x288 with 1 Axes>"
      ]
     },
     "metadata": {
      "needs_background": "light"
     },
     "output_type": "display_data"
    }
   ],
   "source": [
    "seg=0\n",
    "dic = {seg:[]}\n",
    "for h, (ix, iy) in enumerate(zip(x,y)):\n",
    "    l=len(x)\n",
    "    if(h+1==l):\n",
    "        break\n",
    "        \n",
    "    dis=np.sqrt((x[h+1]-x[h])**2+(y[h+1]-y[h])**2)\n",
    "    if(dis>10):\n",
    "        seg+=1\n",
    "        dic[seg]=[]\n",
    "        dic[seg].append(x[h+1])\n",
    "        dic[seg].append(y[h+1])\n",
    "        \n",
    "        \n",
    "    else:\n",
    "        dic[seg].append(x[h])\n",
    "        dic[seg].append(y[h]) \n",
    "        \n",
    "for x in dic.values():\n",
    "    data=np.array(x)\n",
    "    x,y=xycvrt(data)\n",
    "    plt.plot(x,-y)"
   ]
  },
  {
   "cell_type": "code",
   "execution_count": 356,
   "metadata": {},
   "outputs": [],
   "source": [
    "file= open('Segmented_known_shape_coordinate\\\\I.txt','w+')\n",
    "for c in dic.values():\n",
    "    rd=''\n",
    "    k=','\n",
    "    for j in range(len(c)):  \n",
    "        if(j==0):\n",
    "            rd=rd+str(c[j])\n",
    "        else:\n",
    "            rd+=k\n",
    "            rd=rd+str(c[j])\n",
    "                \n",
    "    file.write(rd)\n",
    "    file.write('\\n')\n",
    "file.close() \n"
   ]
  },
  {
   "cell_type": "code",
   "execution_count": null,
   "metadata": {},
   "outputs": [],
   "source": []
  },
  {
   "cell_type": "code",
   "execution_count": null,
   "metadata": {},
   "outputs": [],
   "source": []
  },
  {
   "cell_type": "code",
   "execution_count": null,
   "metadata": {},
   "outputs": [],
   "source": []
  },
  {
   "cell_type": "code",
   "execution_count": null,
   "metadata": {},
   "outputs": [],
   "source": []
  },
  {
   "cell_type": "code",
   "execution_count": null,
   "metadata": {},
   "outputs": [],
   "source": []
  },
  {
   "cell_type": "code",
   "execution_count": null,
   "metadata": {},
   "outputs": [],
   "source": []
  },
  {
   "cell_type": "code",
   "execution_count": null,
   "metadata": {},
   "outputs": [],
   "source": []
  },
  {
   "cell_type": "code",
   "execution_count": 171,
   "metadata": {},
   "outputs": [
    {
     "data": {
      "image/png": "[encoded data removed]",
      "text/plain": [
       "<Figure size 432x288 with 1 Axes>"
      ]
     },
     "metadata": {
      "needs_background": "light"
     },
     "output_type": "display_data"
    }
   ],
   "source": [
    "\n",
    "    "
   ]
  },
  {
   "cell_type": "code",
   "execution_count": 172,
   "metadata": {},
   "outputs": [],
   "source": [
    "   "
   ]
  },
  {
   "cell_type": "code",
   "execution_count": null,
   "metadata": {},
   "outputs": [],
   "source": []
  },
  {
   "cell_type": "code",
   "execution_count": null,
   "metadata": {},
   "outputs": [],
   "source": []
  },
  {
   "cell_type": "code",
   "execution_count": null,
   "metadata": {},
   "outputs": [],
   "source": []
  },
  {
   "cell_type": "code",
   "execution_count": null,
   "metadata": {},
   "outputs": [],
   "source": []
  },
  {
   "cell_type": "code",
   "execution_count": null,
   "metadata": {},
   "outputs": [],
   "source": []
  },
  {
   "cell_type": "code",
   "execution_count": 232,
   "metadata": {},
   "outputs": [],
   "source": [
    "# seg=0\n",
    "# dic = {seg:[]}\n",
    "# for i, (ix, iy) in enumerate(zip(x,y)):\n",
    "#     l=len(x)\n",
    "#     if(i+1==l):\n",
    "#         break\n",
    "#     dx=x[i]-x[i+1]\n",
    "#     dy=y[i]-y[i+1]\n",
    "#     diff=abs(dx and dy)\n",
    "#     if(diff>8):\n",
    "#         seg+=1\n",
    "#         dic[seg]=[]\n",
    "#         dic[seg].append([ix,iy])\n",
    "        \n",
    "#     else:\n",
    "#         dic[seg].append([ix,iy])\n",
    "       "
   ]
  },
  {
   "cell_type": "code",
   "execution_count": null,
   "metadata": {},
   "outputs": [],
   "source": []
  },
  {
   "cell_type": "code",
   "execution_count": null,
   "metadata": {},
   "outputs": [],
   "source": []
  },
  {
   "cell_type": "code",
   "execution_count": null,
   "metadata": {},
   "outputs": [],
   "source": []
  }
 ],
 "metadata": {
  "kernelspec": {
   "display_name": "Python 3",
   "language": "python",
   "name": "python3"
  },
  "language_info": {
   "codemirror_mode": {
    "name": "ipython",
    "version": 3
   },
   "file_extension": ".py",
   "mimetype": "text/x-python",
   "name": "python",
   "nbconvert_exporter": "python",
   "pygments_lexer": "ipython3",
   "version": "3.7.6"
  }
 },
 "nbformat": 4,
 "nbformat_minor": 4
}
