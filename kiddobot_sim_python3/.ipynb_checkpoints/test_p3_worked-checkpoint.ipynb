{
 "cells": [
  {
   "cell_type": "code",
   "execution_count": 1,
   "metadata": {},
   "outputs": [],
   "source": [
    "import vrep\n",
    "import sys\n",
    "import time\n",
    "import numpy as np\n",
    "from kin2d import Kin2D\n",
    "import numpy as np"
   ]
  },
  {
   "cell_type": "markdown",
   "metadata": {},
   "source": [
    "### Kiddobot python3"
   ]
  },
  {
   "cell_type": "code",
   "execution_count": 18,
   "metadata": {},
   "outputs": [],
   "source": [
    "class VrepSim():\n",
    "    def __init__(self):\n",
    "        self.version='March, 9, 2020'\n",
    "        print('vrep simulated robot, version=',self.version)\n",
    "    def connect_and_start(self):\n",
    "        vrep.simxFinish(-1)\n",
    "        self.clientID=vrep.simxStart('127.0.0.1',19997,True,True,5000,5)\n",
    "        if self.clientID!=-1:\n",
    "            print ('Connected to remote API server') \n",
    "            vrep.simxStartSimulation(self.clientID, vrep.simx_opmode_oneshot_wait)\n",
    "        else:\n",
    "            print ('Failed connecting to remote API server')\n",
    "            return False\n",
    "        return True\n",
    "    def get_obj_handle(self, name):\n",
    "        e,h=vrep.simxGetObjectHandle(self.clientID, name, vrep.simx_opmode_oneshot_wait)\n",
    "        return e,h\n",
    "    def set_joint_vel(self, handle, v):\n",
    "        er= vrep.simxSetJointTargetVelocity(self.clientID, h, v, vrep.simx_opmode_streaming)\n",
    "        return er\n",
    "    def set_joint_pos(self, handle, pos): \n",
    "        er=vrep.simxSetJointTargetPosition(self.clientID, handle, pos, vrep.simx_opmode_streaming)\n",
    "        return er\n",
    "    def set_joint_deg(self, handle, theta):\n",
    "        theta=np.deg2rad(theta)\n",
    "        e=vrep.simxSetJointTargetPosition(self.clientID, handle , theta, vrep.simx_opmode_oneshot_wait)\n",
    "        return e\n",
    "    def get_joint_deg(self, handle):\n",
    "        e, theta=vrep.simxGetJointPosition(self.clientID, handle, vrep.simx_opmode_oneshot_wait)\n",
    "        theta=np.rad2deg(theta)\n",
    "        return theta\n",
    "    def close(self):\n",
    "        vrep.simxStopSimulation(self.clientID, vrep.simx_opmode_oneshot_wait)\n",
    "        vrep.simxFinish(self.clientID)\n",
    "        print('connection closed...')"
   ]
  },
  {
   "cell_type": "markdown",
   "metadata": {},
   "source": [
    "#### Test VrepRobot class"
   ]
  },
  {
   "cell_type": "code",
   "execution_count": 3,
   "metadata": {},
   "outputs": [
    {
     "name": "stdout",
     "output_type": "stream",
     "text": [
      "vrep simulated robot\n",
      "Connected to remote API server\n"
     ]
    },
    {
     "data": {
      "text/plain": [
       "True"
      ]
     },
     "execution_count": 3,
     "metadata": {},
     "output_type": "execute_result"
    }
   ],
   "source": [
    "sim=VrepSim()\n",
    "sim.connect_and_start()"
   ]
  },
  {
   "cell_type": "code",
   "execution_count": 4,
   "metadata": {},
   "outputs": [
    {
     "name": "stdout",
     "output_type": "stream",
     "text": [
      "16 20 22\n",
      "0\n"
     ]
    }
   ],
   "source": [
    "e,h=sim.get_obj_handle('mz')\n",
    "e,h2=sim.get_obj_handle('mz2')\n",
    "e,h3=sim.get_obj_handle('pmz')\n",
    "print(h, h2, h3)\n",
    "print(e)"
   ]
  },
  {
   "cell_type": "code",
   "execution_count": 5,
   "metadata": {},
   "outputs": [
    {
     "name": "stdout",
     "output_type": "stream",
     "text": [
      "0\n"
     ]
    }
   ],
   "source": [
    "e=sim.set_joint_deg(h,45)\n",
    "print(e)"
   ]
  },
  {
   "cell_type": "code",
   "execution_count": 6,
   "metadata": {},
   "outputs": [
    {
     "name": "stdout",
     "output_type": "stream",
     "text": [
      "44.99997051638782\n"
     ]
    }
   ],
   "source": [
    "theta=sim.get_joint_deg(h)\n",
    "print(theta)"
   ]
  },
  {
   "cell_type": "code",
   "execution_count": 7,
   "metadata": {},
   "outputs": [
    {
     "name": "stdout",
     "output_type": "stream",
     "text": [
      "-0.0001793205738067627\n"
     ]
    }
   ],
   "source": [
    "e,p=vrep.simxGetJointPosition(sim.clientID, h3, vrep.simx_opmode_oneshot_wait)\n",
    "print(p)"
   ]
  },
  {
   "cell_type": "code",
   "execution_count": null,
   "metadata": {},
   "outputs": [],
   "source": []
  },
  {
   "cell_type": "code",
   "execution_count": 8,
   "metadata": {},
   "outputs": [
    {
     "name": "stdout",
     "output_type": "stream",
     "text": [
      "1\n"
     ]
    }
   ],
   "source": [
    "e=sim.set_joint_pos(h3, -0.02)\n",
    "print(e)     "
   ]
  },
  {
   "cell_type": "code",
   "execution_count": 9,
   "metadata": {},
   "outputs": [
    {
     "name": "stdout",
     "output_type": "stream",
     "text": [
      "0\n"
     ]
    }
   ],
   "source": [
    "e=sim.set_joint_pos(h3, 0)\n",
    "print(e) "
   ]
  },
  {
   "cell_type": "code",
   "execution_count": null,
   "metadata": {},
   "outputs": [],
   "source": []
  },
  {
   "cell_type": "code",
   "execution_count": 10,
   "metadata": {},
   "outputs": [
    {
     "name": "stdout",
     "output_type": "stream",
     "text": [
      "connection closed...\n"
     ]
    }
   ],
   "source": [
    "sim.close()"
   ]
  },
  {
   "cell_type": "markdown",
   "metadata": {},
   "source": [
    "### Kiddobot Sim Robot Class"
   ]
  },
  {
   "cell_type": "code",
   "execution_count": 11,
   "metadata": {},
   "outputs": [],
   "source": [
    "class Kiddobot():\n",
    "    def __init__(self):\n",
    "        print('Kiddobot class')\n",
    "        self.joint_names=['mz', 'mz2', 'pmz']\n",
    "    def start_sim(self):\n",
    "        self.sim=VrepSim()\n",
    "        self.sim.connect_and_start()\n",
    "        e,self.h=self.sim.get_obj_handle(self.joint_names[0])\n",
    "        e,self.h2=self.sim.get_obj_handle(self.joint_names[1])\n",
    "        e,self.h3=self.sim.get_obj_handle(self.joint_names[2])\n",
    "    def set_base(self, deg):\n",
    "        e=self.sim.set_joint_deg(self.h, deg)\n",
    "        return e\n",
    "    def set_elbow(self, deg):\n",
    "        e=self.sim.set_joint_deg(self.h2, deg)\n",
    "        return e\n",
    "    def set_base_elbow(self, deg, deg2):\n",
    "        e=self.set_base(deg)\n",
    "        e2=self.set_elbow(deg2)\n",
    "        return e*e2\n",
    "    def get_joint_pos(self):\n",
    "        theta=self.sim.get_joint_deg(self.h)\n",
    "        theta2=self.sim.get_joint_deg(self.h2)\n",
    "        return theta, theta2\n",
    "    def pen_down(self):\n",
    "        print('pen down to do')\n",
    "        e=self.sim.set_joint_pos(self.h3, -4.600e-02)\n",
    "        return e\n",
    "    def pen_up(self):\n",
    "        print('pen up to do')\n",
    "        e=self.sim.set_joint_pos(self.h3, 0)\n",
    "        return e\n",
    "    def go_def(self):\n",
    "        e=self.set_base_elbow(30, 30)\n",
    "        return e\n",
    "    def close(self):\n",
    "        self.sim.close()"
   ]
  },
  {
   "cell_type": "code",
   "execution_count": 12,
   "metadata": {},
   "outputs": [
    {
     "name": "stdout",
     "output_type": "stream",
     "text": [
      "Kiddobot class\n",
      "vrep simulated robot\n",
      "Connected to remote API server\n"
     ]
    }
   ],
   "source": [
    "robot=Kiddobot()\n",
    "robot.start_sim()"
   ]
  },
  {
   "cell_type": "code",
   "execution_count": 13,
   "metadata": {},
   "outputs": [
    {
     "data": {
      "text/plain": [
       "0"
      ]
     },
     "execution_count": 13,
     "metadata": {},
     "output_type": "execute_result"
    }
   ],
   "source": [
    "robot.set_base_elbow(45, 60)"
   ]
  },
  {
   "cell_type": "code",
   "execution_count": 14,
   "metadata": {},
   "outputs": [
    {
     "data": {
      "text/plain": [
       "0"
      ]
     },
     "execution_count": 14,
     "metadata": {},
     "output_type": "execute_result"
    }
   ],
   "source": [
    "robot.go_def()"
   ]
  },
  {
   "cell_type": "code",
   "execution_count": 15,
   "metadata": {},
   "outputs": [
    {
     "name": "stdout",
     "output_type": "stream",
     "text": [
      "pen down to do\n"
     ]
    },
    {
     "data": {
      "text/plain": [
       "1"
      ]
     },
     "execution_count": 15,
     "metadata": {},
     "output_type": "execute_result"
    }
   ],
   "source": [
    "robot.pen_down()"
   ]
  },
  {
   "cell_type": "code",
   "execution_count": 16,
   "metadata": {},
   "outputs": [
    {
     "name": "stdout",
     "output_type": "stream",
     "text": [
      "pen up to do\n"
     ]
    },
    {
     "data": {
      "text/plain": [
       "0"
      ]
     },
     "execution_count": 16,
     "metadata": {},
     "output_type": "execute_result"
    }
   ],
   "source": [
    "robot.pen_up()"
   ]
  },
  {
   "cell_type": "code",
   "execution_count": null,
   "metadata": {},
   "outputs": [],
   "source": []
  },
  {
   "cell_type": "code",
   "execution_count": 17,
   "metadata": {},
   "outputs": [
    {
     "name": "stdout",
     "output_type": "stream",
     "text": [
      "connection closed...\n"
     ]
    }
   ],
   "source": [
    "robot.close()"
   ]
  },
  {
   "cell_type": "code",
   "execution_count": null,
   "metadata": {},
   "outputs": [],
   "source": []
  },
  {
   "cell_type": "code",
   "execution_count": null,
   "metadata": {},
   "outputs": [],
   "source": []
  }
 ],
 "metadata": {
  "kernelspec": {
   "display_name": "Python 3",
   "language": "python",
   "name": "python3"
  },
  "language_info": {
   "codemirror_mode": {
    "name": "ipython",
    "version": 3
   },
   "file_extension": ".py",
   "mimetype": "text/x-python",
   "name": "python",
   "nbconvert_exporter": "python",
   "pygments_lexer": "ipython3",
   "version": "3.7.0"
  }
 },
 "nbformat": 4,
 "nbformat_minor": 2
}
