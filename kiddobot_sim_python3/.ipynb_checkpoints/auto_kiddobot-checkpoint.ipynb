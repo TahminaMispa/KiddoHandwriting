{
 "cells": [
  {
   "cell_type": "code",
   "execution_count": 1,
   "metadata": {},
   "outputs": [],
   "source": [
    "import sys\n",
    "import time\n",
    "import numpy as np\n",
    "from autokiddobot import AutoKiddobot"
   ]
  },
  {
   "cell_type": "markdown",
   "metadata": {},
   "source": [
    "### Using the autobot class"
   ]
  },
  {
   "cell_type": "code",
   "execution_count": 36,
   "metadata": {},
   "outputs": [
    {
     "name": "stdout",
     "output_type": "stream",
     "text": [
      "Kiddobot sim and kin auto\n",
      "Kiddobot class\n",
      "2D Kin. version= March, 9, 2020\n",
      "Link1= 200 mm  Link2= 180 mm\n",
      "max xy= 300 200\n",
      "vrep simulated robot, version= March, 9, 2020\n",
      "Connected to remote API server\n"
     ]
    }
   ],
   "source": [
    "bot=AutoKiddobot()\n",
    "bot.start()"
   ]
  },
  {
   "cell_type": "code",
   "execution_count": 17,
   "metadata": {},
   "outputs": [
    {
     "data": {
      "text/plain": [
       "True"
      ]
     },
     "execution_count": 17,
     "metadata": {},
     "output_type": "execute_result"
    }
   ],
   "source": [
    "bot.go_to_xy(150,100)"
   ]
  },
  {
   "cell_type": "code",
   "execution_count": 19,
   "metadata": {},
   "outputs": [],
   "source": [
    "# fn=\"C:\\\\Users\\\\L E N O V O\\\\Desktop\\\\novel_shape\\\\0mean_soroborna\\\\sore_o.txt\"\n",
    "# with open (fn) as file:\n",
    "#     lines=file.readlines()"
   ]
  },
  {
   "cell_type": "code",
   "execution_count": 22,
   "metadata": {},
   "outputs": [],
   "source": [
    "# arr=np.array(lines)\n",
    "# n=len(arr)\n",
    "# print(n)"
   ]
  },
  {
   "cell_type": "code",
   "execution_count": 23,
   "metadata": {},
   "outputs": [],
   "source": [
    "# for i in range(n):\n",
    "#     p1=arr[i].strip().split(',')\n",
    "#     pts=[]\n",
    "#     for item in p1:\n",
    "#         item=float(item)\n",
    "#         pts.append(item)\n",
    "#     pts=np.array(pts)\n",
    "#     p1=int(len(pts)/2)\n",
    "# x=pts[:p1]\n",
    "# y=pts[p1:]\n",
    "# x=np.array(x)\n",
    "# y=np.array(y)\n",
    "    "
   ]
  },
  {
   "cell_type": "code",
   "execution_count": null,
   "metadata": {},
   "outputs": [],
   "source": []
  },
  {
   "cell_type": "code",
   "execution_count": 26,
   "metadata": {},
   "outputs": [],
   "source": [
    "# x1=[]\n",
    "# y1=[]\n",
    "# for i in x:\n",
    "#     if i>290:\n",
    "#         i=290\n",
    "#         x1.append(i)\n",
    "#     else:\n",
    "#         x1.append(i)\n",
    "# for i in y:\n",
    "#     if i>190:\n",
    "#         i=190\n",
    "#         y1.append(i)\n",
    "#     else:\n",
    "#         y1.append(i)\n",
    "# x1=np.array(x1)\n",
    "# y1=np.array(y1)\n",
    "# for ix,iy in zip(x1,y1):\n",
    "#     bot.go_to_xy(ix,iy)        "
   ]
  },
  {
   "cell_type": "code",
   "execution_count": 20,
   "metadata": {},
   "outputs": [],
   "source": [
    "def cvrtarr(line):\n",
    "    arr=np.array(line)\n",
    "    n=len(arr)\n",
    "    for i in range(n):\n",
    "        p1=arr[i].strip().split(',')\n",
    "        pts=[]\n",
    "        for item in p1:\n",
    "            item=float(item)\n",
    "            pts.append(item)\n",
    "        pts=np.array(pts)\n",
    "    pts=np.array(pts)\n",
    "    return pts\n",
    "    "
   ]
  },
  {
   "cell_type": "code",
   "execution_count": 21,
   "metadata": {},
   "outputs": [],
   "source": [
    "def xycvrt(data):\n",
    "    x=[]\n",
    "    y=[]\n",
    "    for i in range(len(data)):\n",
    "        if(i%2)==0:\n",
    "            y.append(data[i])\n",
    "        elif(1%2)!=0:\n",
    "            x.append(data[i])\n",
    "\n",
    "    x=np.array(x)\n",
    "    y=np.array(y)\n",
    "    return x,y\n",
    "\n",
    "    "
   ]
  },
  {
   "cell_type": "markdown",
   "metadata": {},
   "source": [
    "# line"
   ]
  },
  {
   "cell_type": "code",
   "execution_count": 18,
   "metadata": {},
   "outputs": [
    {
     "name": "stdout",
     "output_type": "stream",
     "text": [
      "pen down to do\n",
      "xy out of range. max xy= 300 200\n",
      "xy out of range. max xy= 300 200\n",
      "xy out of range. max xy= 300 200\n",
      "xy out of range. max xy= 300 200\n",
      "xy out of range. max xy= 300 200\n",
      "xy out of range. max xy= 300 200\n",
      "xy out of range. max xy= 300 200\n",
      "xy out of range. max xy= 300 200\n",
      "xy out of range. max xy= 300 200\n",
      "xy out of range. max xy= 300 200\n",
      "xy out of range. max xy= 300 200\n",
      "xy out of range. max xy= 300 200\n",
      "xy out of range. max xy= 300 200\n",
      "xy out of range. max xy= 300 200\n",
      "xy out of range. max xy= 300 200\n",
      "xy out of range. max xy= 300 200\n",
      "xy out of range. max xy= 300 200\n",
      "xy out of range. max xy= 300 200\n",
      "xy out of range. max xy= 300 200\n",
      "xy out of range. max xy= 300 200\n",
      "xy out of range. max xy= 300 200\n",
      "xy out of range. max xy= 300 200\n",
      "xy out of range. max xy= 300 200\n",
      "xy out of range. max xy= 300 200\n",
      "xy out of range. max xy= 300 200\n",
      "xy out of range. max xy= 300 200\n",
      "xy out of range. max xy= 300 200\n",
      "xy out of range. max xy= 300 200\n",
      "xy out of range. max xy= 300 200\n",
      "xy out of range. max xy= 300 200\n",
      "xy out of range. max xy= 300 200\n",
      "xy out of range. max xy= 300 200\n",
      "xy out of range. max xy= 300 200\n",
      "xy out of range. max xy= 300 200\n",
      "xy out of range. max xy= 300 200\n",
      "xy out of range. max xy= 300 200\n",
      "xy out of range. max xy= 300 200\n",
      "xy out of range. max xy= 300 200\n",
      "xy out of range. max xy= 300 200\n",
      "xy out of range. max xy= 300 200\n",
      "xy out of range. max xy= 300 200\n",
      "xy out of range. max xy= 300 200\n",
      "xy out of range. max xy= 300 200\n",
      "xy out of range. max xy= 300 200\n",
      "xy out of range. max xy= 300 200\n",
      "xy out of range. max xy= 300 200\n",
      "xy out of range. max xy= 300 200\n",
      "xy out of range. max xy= 300 200\n",
      "xy out of range. max xy= 300 200\n",
      "xy out of range. max xy= 300 200\n",
      "pen up to do\n"
     ]
    }
   ],
   "source": [
    "fn=\"C:\\\\Users\\\\L E N O V O\\\\Desktop\\\\novel_shape\\\\geometry_code\\\\2.txt\"\n",
    "with open (fn) as file:\n",
    "    line=file.readlines()\n",
    "bot.go_to_xy(100, 100)\n",
    "bot.pen_down()\n",
    "data=cvrtarr(line)\n",
    "x,y=xycvrt(data)\n",
    "for ix,iy in zip(x,y):\n",
    "    bot.go_to_xy(ix,iy)\n",
    "bot.pen_up()\n"
   ]
  },
  {
   "cell_type": "markdown",
   "metadata": {},
   "source": [
    "# rectangle"
   ]
  },
  {
   "cell_type": "code",
   "execution_count": 29,
   "metadata": {},
   "outputs": [
    {
     "name": "stdout",
     "output_type": "stream",
     "text": [
      "pen down to do\n",
      "pen up to do\n"
     ]
    }
   ],
   "source": [
    "fn=\"C:\\\\Users\\\\L E N O V O\\\\Desktop\\\\novel_shape\\\\geometry_code\\\\rectangle.txt\"\n",
    "with open (fn) as file:\n",
    "    line=file.readlines()\n",
    "bot.go_to_xy(0,0)\n",
    "bot.pen_down()\n",
    "data=cvrtarr(line)\n",
    "x,y=xycvrt(data)\n",
    "for ix,iy in zip(x,y):\n",
    "    bot.go_to_xy(ix,iy)\n",
    "bot.pen_up()\n",
    "    \n"
   ]
  },
  {
   "cell_type": "markdown",
   "metadata": {},
   "source": [
    "# Triangle"
   ]
  },
  {
   "cell_type": "code",
   "execution_count": 27,
   "metadata": {},
   "outputs": [
    {
     "name": "stdout",
     "output_type": "stream",
     "text": [
      "pen down to do\n",
      "pen up to do\n"
     ]
    }
   ],
   "source": [
    "fn=\"C:\\\\Users\\\\L E N O V O\\\\Desktop\\\\novel_shape\\\\geometry_code\\\\4.txt\"\n",
    "with open (fn) as file:\n",
    "    line=file.readlines()\n",
    "bot.go_to_xy(0,0)\n",
    "bot.pen_down()\n",
    "data=cvrtarr(line)\n",
    "x,y=xycvrt(data)\n",
    "for ix,iy in zip(x,y):\n",
    "    bot.go_to_xy(ix,iy)\n",
    "bot.pen_up()"
   ]
  },
  {
   "cell_type": "markdown",
   "metadata": {},
   "source": [
    "# Trapizium"
   ]
  },
  {
   "cell_type": "code",
   "execution_count": 32,
   "metadata": {},
   "outputs": [
    {
     "name": "stdout",
     "output_type": "stream",
     "text": [
      "pen down to do\n",
      "pen up to do\n"
     ]
    }
   ],
   "source": [
    "fn=\"C:\\\\Users\\\\L E N O V O\\\\Desktop\\\\novel_shape\\\\geometry_code\\\\trapizium.txt\"\n",
    "with open (fn) as file:\n",
    "    line=file.readlines()\n",
    "bot.go_to_xy(0,0)\n",
    "bot.pen_down()\n",
    "data=cvrtarr(line)\n",
    "x,y=xycvrt(data)\n",
    "for ix,iy in zip(x,y):\n",
    "    bot.go_to_xy(ix,iy)\n",
    "bot.pen_up()"
   ]
  },
  {
   "cell_type": "markdown",
   "metadata": {},
   "source": [
    "# circle"
   ]
  },
  {
   "cell_type": "code",
   "execution_count": 38,
   "metadata": {},
   "outputs": [
    {
     "name": "stdout",
     "output_type": "stream",
     "text": [
      "pen down to do\n",
      "xy out of range. max xy= 300 200\n",
      "xy out of range. max xy= 300 200\n",
      "xy out of range. max xy= 300 200\n",
      "xy out of range. max xy= 300 200\n",
      "xy out of range. max xy= 300 200\n",
      "xy out of range. max xy= 300 200\n",
      "xy out of range. max xy= 300 200\n",
      "xy out of range. max xy= 300 200\n",
      "xy out of range. max xy= 300 200\n",
      "xy out of range. max xy= 300 200\n",
      "xy out of range. max xy= 300 200\n",
      "xy out of range. max xy= 300 200\n",
      "xy out of range. max xy= 300 200\n",
      "xy out of range. max xy= 300 200\n",
      "xy out of range. max xy= 300 200\n",
      "xy out of range. max xy= 300 200\n",
      "xy out of range. max xy= 300 200\n",
      "xy out of range. max xy= 300 200\n",
      "xy out of range. max xy= 300 200\n",
      "xy out of range. max xy= 300 200\n",
      "xy out of range. max xy= 300 200\n",
      "xy out of range. max xy= 300 200\n",
      "xy out of range. max xy= 300 200\n",
      "xy out of range. max xy= 300 200\n",
      "xy out of range. max xy= 300 200\n",
      "xy out of range. max xy= 300 200\n",
      "xy out of range. max xy= 300 200\n",
      "xy out of range. max xy= 300 200\n",
      "xy out of range. max xy= 300 200\n",
      "xy out of range. max xy= 300 200\n",
      "xy out of range. max xy= 300 200\n",
      "xy out of range. max xy= 300 200\n",
      "xy out of range. max xy= 300 200\n",
      "xy out of range. max xy= 300 200\n",
      "xy out of range. max xy= 300 200\n",
      "xy out of range. max xy= 300 200\n",
      "xy out of range. max xy= 300 200\n",
      "xy out of range. max xy= 300 200\n",
      "xy out of range. max xy= 300 200\n",
      "xy out of range. max xy= 300 200\n",
      "xy out of range. max xy= 300 200\n",
      "xy out of range. max xy= 300 200\n",
      "xy out of range. max xy= 300 200\n",
      "xy out of range. max xy= 300 200\n",
      "xy out of range. max xy= 300 200\n",
      "xy out of range. max xy= 300 200\n",
      "xy out of range. max xy= 300 200\n",
      "xy out of range. max xy= 300 200\n",
      "xy out of range. max xy= 300 200\n",
      "xy out of range. max xy= 300 200\n",
      "xy out of range. max xy= 300 200\n",
      "xy out of range. max xy= 300 200\n",
      "xy out of range. max xy= 300 200\n",
      "xy out of range. max xy= 300 200\n",
      "xy out of range. max xy= 300 200\n",
      "xy out of range. max xy= 300 200\n",
      "xy out of range. max xy= 300 200\n",
      "xy out of range. max xy= 300 200\n",
      "xy out of range. max xy= 300 200\n",
      "xy out of range. max xy= 300 200\n",
      "xy out of range. max xy= 300 200\n",
      "xy out of range. max xy= 300 200\n",
      "xy out of range. max xy= 300 200\n",
      "xy out of range. max xy= 300 200\n",
      "xy out of range. max xy= 300 200\n",
      "xy out of range. max xy= 300 200\n",
      "xy out of range. max xy= 300 200\n",
      "xy out of range. max xy= 300 200\n",
      "xy out of range. max xy= 300 200\n",
      "xy out of range. max xy= 300 200\n",
      "xy out of range. max xy= 300 200\n",
      "xy out of range. max xy= 300 200\n",
      "xy out of range. max xy= 300 200\n",
      "xy out of range. max xy= 300 200\n",
      "xy out of range. max xy= 300 200\n",
      "xy out of range. max xy= 300 200\n",
      "xy out of range. max xy= 300 200\n",
      "xy out of range. max xy= 300 200\n",
      "xy out of range. max xy= 300 200\n",
      "xy out of range. max xy= 300 200\n",
      "xy out of range. max xy= 300 200\n",
      "xy out of range. max xy= 300 200\n",
      "xy out of range. max xy= 300 200\n",
      "xy out of range. max xy= 300 200\n",
      "xy out of range. max xy= 300 200\n",
      "xy out of range. max xy= 300 200\n",
      "xy out of range. max xy= 300 200\n",
      "xy out of range. max xy= 300 200\n",
      "xy out of range. max xy= 300 200\n",
      "xy out of range. max xy= 300 200\n",
      "xy out of range. max xy= 300 200\n",
      "xy out of range. max xy= 300 200\n",
      "xy out of range. max xy= 300 200\n",
      "xy out of range. max xy= 300 200\n",
      "xy out of range. max xy= 300 200\n",
      "xy out of range. max xy= 300 200\n",
      "xy out of range. max xy= 300 200\n",
      "xy out of range. max xy= 300 200\n",
      "xy out of range. max xy= 300 200\n",
      "xy out of range. max xy= 300 200\n",
      "xy out of range. max xy= 300 200\n",
      "xy out of range. max xy= 300 200\n",
      "xy out of range. max xy= 300 200\n",
      "xy out of range. max xy= 300 200\n",
      "xy out of range. max xy= 300 200\n",
      "xy out of range. max xy= 300 200\n",
      "xy out of range. max xy= 300 200\n",
      "xy out of range. max xy= 300 200\n",
      "xy out of range. max xy= 300 200\n",
      "xy out of range. max xy= 300 200\n",
      "xy out of range. max xy= 300 200\n",
      "xy out of range. max xy= 300 200\n",
      "xy out of range. max xy= 300 200\n",
      "xy out of range. max xy= 300 200\n",
      "xy out of range. max xy= 300 200\n",
      "xy out of range. max xy= 300 200\n",
      "xy out of range. max xy= 300 200\n",
      "xy out of range. max xy= 300 200\n",
      "xy out of range. max xy= 300 200\n",
      "xy out of range. max xy= 300 200\n",
      "xy out of range. max xy= 300 200\n",
      "xy out of range. max xy= 300 200\n",
      "xy out of range. max xy= 300 200\n",
      "xy out of range. max xy= 300 200\n",
      "xy out of range. max xy= 300 200\n",
      "xy out of range. max xy= 300 200\n",
      "xy out of range. max xy= 300 200\n",
      "xy out of range. max xy= 300 200\n",
      "xy out of range. max xy= 300 200\n",
      "xy out of range. max xy= 300 200\n",
      "xy out of range. max xy= 300 200\n",
      "xy out of range. max xy= 300 200\n",
      "xy out of range. max xy= 300 200\n",
      "xy out of range. max xy= 300 200\n",
      "xy out of range. max xy= 300 200\n",
      "xy out of range. max xy= 300 200\n",
      "xy out of range. max xy= 300 200\n",
      "xy out of range. max xy= 300 200\n",
      "xy out of range. max xy= 300 200\n",
      "xy out of range. max xy= 300 200\n",
      "xy out of range. max xy= 300 200\n",
      "xy out of range. max xy= 300 200\n",
      "xy out of range. max xy= 300 200\n",
      "xy out of range. max xy= 300 200\n",
      "xy out of range. max xy= 300 200\n",
      "xy out of range. max xy= 300 200\n",
      "xy out of range. max xy= 300 200\n",
      "xy out of range. max xy= 300 200\n",
      "xy out of range. max xy= 300 200\n",
      "xy out of range. max xy= 300 200\n",
      "xy out of range. max xy= 300 200\n",
      "xy out of range. max xy= 300 200\n",
      "xy out of range. max xy= 300 200\n",
      "xy out of range. max xy= 300 200\n",
      "xy out of range. max xy= 300 200\n",
      "xy out of range. max xy= 300 200\n",
      "xy out of range. max xy= 300 200\n",
      "xy out of range. max xy= 300 200\n",
      "xy out of range. max xy= 300 200\n",
      "xy out of range. max xy= 300 200\n",
      "xy out of range. max xy= 300 200\n",
      "xy out of range. max xy= 300 200\n",
      "xy out of range. max xy= 300 200\n",
      "xy out of range. max xy= 300 200\n",
      "xy out of range. max xy= 300 200\n",
      "xy out of range. max xy= 300 200\n",
      "xy out of range. max xy= 300 200\n",
      "xy out of range. max xy= 300 200\n",
      "xy out of range. max xy= 300 200\n",
      "xy out of range. max xy= 300 200\n",
      "xy out of range. max xy= 300 200\n",
      "xy out of range. max xy= 300 200\n",
      "xy out of range. max xy= 300 200\n",
      "xy out of range. max xy= 300 200\n",
      "xy out of range. max xy= 300 200\n",
      "xy out of range. max xy= 300 200\n",
      "xy out of range. max xy= 300 200\n",
      "xy out of range. max xy= 300 200\n",
      "xy out of range. max xy= 300 200\n",
      "xy out of range. max xy= 300 200\n",
      "pen up to do\n"
     ]
    }
   ],
   "source": [
    "fn=\"C:\\\\Users\\\\L E N O V O\\\\Desktop\\\\novel_shape\\\\geometry_code\\\\circle.txt\"\n",
    "with open (fn) as file:\n",
    "    line=file.readlines()\n",
    "bot.go_to_xy(150,100)\n",
    "bot.pen_down()\n",
    "data=cvrtarr(line)\n",
    "x,y=xycvrt(data)\n",
    "for ix,iy in zip(x,y):\n",
    "    bot.go_to_xy(ix,iy)\n",
    "bot.pen_up()"
   ]
  },
  {
   "cell_type": "code",
   "execution_count": null,
   "metadata": {},
   "outputs": [],
   "source": []
  },
  {
   "cell_type": "code",
   "execution_count": 34,
   "metadata": {},
   "outputs": [],
   "source": [
    "# bot.pen_down()\n",
    "# for ix in range(bot.xmax):\n",
    "#     bot.go_to_xy(ix, 0)\n",
    "    "
   ]
  },
  {
   "cell_type": "code",
   "execution_count": 35,
   "metadata": {},
   "outputs": [],
   "source": [
    "# for iy in range(bot.ymax):\n",
    "#     bot.go_to_xy(bot.x, iy)\n",
    "# bot.pen_up()"
   ]
  },
  {
   "cell_type": "code",
   "execution_count": 36,
   "metadata": {},
   "outputs": [],
   "source": [
    "# bot.pen_down()\n",
    "# for ix in range(bot.xmax):\n",
    "#     bot.go_to_xy(bot.xmax-ix, bot.y)\n",
    "    \n",
    "# for iy in range(bot.ymax):\n",
    "#     bot.go_to_xy(bot.x, bot.ymax-iy)\n",
    "# bot.pen_up()"
   ]
  },
  {
   "cell_type": "code",
   "execution_count": 35,
   "metadata": {},
   "outputs": [
    {
     "name": "stdout",
     "output_type": "stream",
     "text": [
      "connection closed...\n"
     ]
    }
   ],
   "source": [
    "bot.close()"
   ]
  },
  {
   "cell_type": "code",
   "execution_count": null,
   "metadata": {},
   "outputs": [],
   "source": []
  },
  {
   "cell_type": "code",
   "execution_count": null,
   "metadata": {},
   "outputs": [],
   "source": []
  },
  {
   "cell_type": "code",
   "execution_count": null,
   "metadata": {},
   "outputs": [],
   "source": []
  }
 ],
 "metadata": {
  "kernelspec": {
   "display_name": "Python 3",
   "language": "python",
   "name": "python3"
  },
  "language_info": {
   "codemirror_mode": {
    "name": "ipython",
    "version": 3
   },
   "file_extension": ".py",
   "mimetype": "text/x-python",
   "name": "python",
   "nbconvert_exporter": "python",
   "pygments_lexer": "ipython3",
   "version": "3.7.6"
  }
 },
 "nbformat": 4,
 "nbformat_minor": 2
}
