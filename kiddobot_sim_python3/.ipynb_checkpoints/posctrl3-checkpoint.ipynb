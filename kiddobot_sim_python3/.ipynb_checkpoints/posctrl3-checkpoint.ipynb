{
 "cells": [
  {
   "cell_type": "code",
   "execution_count": 2,
   "metadata": {},
   "outputs": [],
   "source": [
    "from kin2d import Kin2D\n",
    "import numpy as np"
   ]
  },
  {
   "cell_type": "markdown",
   "metadata": {},
   "source": [
    "### Worked with 'twolink_new' scene"
   ]
  },
  {
   "cell_type": "code",
   "execution_count": 3,
   "metadata": {},
   "outputs": [
    {
     "name": "stdout",
     "output_type": "stream",
     "text": [
      "Connected to remote API server\n"
     ]
    }
   ],
   "source": [
    "import vrep,sys\n",
    "\n",
    "vrep.simxFinish(-1)\n",
    "clientID=vrep.simxStart('127.0.0.1',19997,True,True,5000,5)\n",
    "if clientID!=-1:\n",
    "    print('Connected to remote API server')\n",
    "else:\n",
    "    print ('Connection failed!')\n",
    "    sys.exit('Could not connect')"
   ]
  },
  {
   "cell_type": "code",
   "execution_count": 4,
   "metadata": {},
   "outputs": [
    {
     "data": {
      "text/plain": [
       "0"
      ]
     },
     "execution_count": 4,
     "metadata": {},
     "output_type": "execute_result"
    }
   ],
   "source": [
    "# start our simulation in lockstep with our code\n",
    "vrep.simxStartSimulation(clientID, vrep.simx_opmode_oneshot_wait)"
   ]
  },
  {
   "cell_type": "code",
   "execution_count": 5,
   "metadata": {},
   "outputs": [],
   "source": [
    "joint_names =['shoulder', 'elbow']\n",
    "joint_names=['mz', 'mz2']\n",
    "L = np.array([.42, .225]) # arm segment lengths"
   ]
  },
  {
   "cell_type": "code",
   "execution_count": 6,
   "metadata": {},
   "outputs": [],
   "source": [
    "# get the handles for each joint and set up streaming\n",
    "joint_handles = [vrep.simxGetObjectHandle(clientID, name, vrep.simx_opmode_oneshot_wait)[1] for name in joint_names]"
   ]
  },
  {
   "cell_type": "code",
   "execution_count": 7,
   "metadata": {},
   "outputs": [],
   "source": [
    "# # get handle for target and set up streaming\n",
    "_, target_handle = vrep.simxGetObjectHandle(clientID,'target', vrep.simx_opmode_oneshot_wait)"
   ]
  },
  {
   "cell_type": "code",
   "execution_count": 8,
   "metadata": {},
   "outputs": [],
   "source": [
    " # get the (x,y,z) position of the target\n",
    "_, target_xyz = vrep.simxGetObjectPosition(clientID,target_handle,\n",
    "                    -1, # retrieve absolute, not relative, position\n",
    "                    vrep.simx_opmode_oneshot_wait)"
   ]
  },
  {
   "cell_type": "code",
   "execution_count": 10,
   "metadata": {},
   "outputs": [
    {
     "name": "stdout",
     "output_type": "stream",
     "text": [
      "[1.3721396923065186, -0.45477423071861267, 1.297983169555664]\n"
     ]
    }
   ],
   "source": [
    "print(target_xyz)"
   ]
  },
  {
   "cell_type": "code",
   "execution_count": 11,
   "metadata": {},
   "outputs": [],
   "source": [
    "# get the joint angles\n",
    "q =[0 for i in range(len(joint_handles))]\n",
    "for ii,joint_handle in enumerate(joint_handles):\n",
    "    _, q[ii] = vrep.simxGetJointPosition(clientID, joint_handle, vrep.simx_opmode_oneshot_wait)"
   ]
  },
  {
   "cell_type": "code",
   "execution_count": 13,
   "metadata": {},
   "outputs": [
    {
     "name": "stdout",
     "output_type": "stream",
     "text": [
      "[8.703955389549253e-14, -8.756183278446628e-12]\n"
     ]
    }
   ],
   "source": [
    "print(q)"
   ]
  },
  {
   "cell_type": "code",
   "execution_count": 14,
   "metadata": {},
   "outputs": [],
   "source": [
    "qd =[i*180/3.1416 for i in q] #converting to degree"
   ]
  },
  {
   "cell_type": "code",
   "execution_count": 16,
   "metadata": {},
   "outputs": [
    {
     "name": "stdout",
     "output_type": "stream",
     "text": [
      "in degree= [4.986987427167257e-12, -5.01691173325819e-10]\n"
     ]
    }
   ],
   "source": [
    "print('in degree=',qd)"
   ]
  },
  {
   "cell_type": "code",
   "execution_count": 13,
   "metadata": {},
   "outputs": [
    {
     "name": "stdout",
     "output_type": "stream",
     "text": [
      "2D Kin\n",
      "calc fk\n",
      "x= 0.4219649420127076  y= 0.4273332454999887\n"
     ]
    }
   ],
   "source": [
    "kin=Kin2D(L[0], L[1])\n",
    "x,y=kin.calcFK(q[0], q[1])\n",
    "print 'x=',x,' y=',y"
   ]
  },
  {
   "cell_type": "code",
   "execution_count": 14,
   "metadata": {},
   "outputs": [
    {
     "name": "stdout",
     "output_type": "stream",
     "text": [
      "calc IK\n",
      "q1= 0.5235985517501831  q2= 0.7853986620903015\n"
     ]
    }
   ],
   "source": [
    "q1, q2=kin.calcIK(x,y)\n",
    "print 'q1=',q1,' q2=',q2"
   ]
  },
  {
   "cell_type": "code",
   "execution_count": 15,
   "metadata": {},
   "outputs": [
    {
     "name": "stdout",
     "output_type": "stream",
     "text": [
      "calc fk\n",
      "x= 0.4219649420127076  y= 0.4273332454999887\n"
     ]
    }
   ],
   "source": [
    "x,y=kin.calcFK(q1, q2)\n",
    "print 'x=',x,' y=',y"
   ]
  },
  {
   "cell_type": "code",
   "execution_count": 16,
   "metadata": {},
   "outputs": [
    {
     "name": "stdout",
     "output_type": "stream",
     "text": [
      "IK for target pos\n",
      "calc IK\n",
      "q1= 1.4518044644932246  q2= 1.6543569475269448\n"
     ]
    }
   ],
   "source": [
    "print 'IK for target pos'\n",
    "q1, q2=kin.calcIK(target_xyz[0] ,target_xyz[2]-0.15)\n",
    "print 'q1=',q1,' q2=',q2"
   ]
  },
  {
   "cell_type": "code",
   "execution_count": 17,
   "metadata": {},
   "outputs": [
    {
     "name": "stdout",
     "output_type": "stream",
     "text": [
      "q1= 83.18226849371236  q2= 94.78767090143974\n"
     ]
    }
   ],
   "source": [
    "q1= np.rad2deg(q1)\n",
    "q2= np.rad2deg(q2) \n",
    "print 'q1=',q1,' q2=',q2"
   ]
  },
  {
   "cell_type": "code",
   "execution_count": 21,
   "metadata": {},
   "outputs": [
    {
     "data": {
      "text/plain": [
       "0"
      ]
     },
     "execution_count": 21,
     "metadata": {},
     "output_type": "execute_result"
    }
   ],
   "source": [
    " #move joints\n",
    "q1=20\n",
    "q2=30\n",
    "vrep.simxSetJointTargetPosition(clientID, joint_handles[0] , q1, vrep.simx_opmode_oneshot_wait)\n",
    "vrep.simxSetJointTargetPosition(clientID, joint_handles[1] , q2, vrep.simx_opmode_oneshot_wait)"
   ]
  },
  {
   "cell_type": "code",
   "execution_count": 18,
   "metadata": {},
   "outputs": [
    {
     "data": {
      "text/plain": [
       "0"
      ]
     },
     "execution_count": 18,
     "metadata": {},
     "output_type": "execute_result"
    }
   ],
   "source": [
    "#move joints\n",
    "vrep.simxSetJointTargetPosition(clientID, joint_handles[0] , q1, vrep.simx_opmode_oneshot_wait)\n",
    "vrep.simxSetJointTargetPosition(clientID, joint_handles[1] , q2, vrep.simx_opmode_oneshot_wait)"
   ]
  },
  {
   "cell_type": "code",
   "execution_count": 4,
   "metadata": {},
   "outputs": [
    {
     "name": "stdout",
     "output_type": "stream",
     "text": [
      "connection closed...\n"
     ]
    }
   ],
   "source": [
    "# stop the simulation\n",
    "vrep.simxStopSimulation(clientID, vrep.simx_opmode_oneshot_wait)\n",
    "# Now close the connection to V-REP:\n",
    "vrep.simxFinish(clientID)\n",
    "print('connection closed...')"
   ]
  },
  {
   "cell_type": "code",
   "execution_count": null,
   "metadata": {},
   "outputs": [],
   "source": []
  }
 ],
 "metadata": {
  "kernelspec": {
   "display_name": "Python 3",
   "language": "python",
   "name": "python3"
  }
 },
 "nbformat": 4,
 "nbformat_minor": 2
}
