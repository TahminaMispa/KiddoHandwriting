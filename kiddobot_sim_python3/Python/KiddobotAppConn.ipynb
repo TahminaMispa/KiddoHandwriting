{
 "cells": [
  {
   "cell_type": "code",
   "execution_count": 1,
   "metadata": {},
   "outputs": [],
   "source": [
    "import websocket\n",
    "try:\n",
    "    import thread\n",
    "except ImportError:\n",
    "    import _thread as thread\n",
    "import time\n",
    "import json"
   ]
  },
  {
   "cell_type": "markdown",
   "metadata": {},
   "source": [
    "### Command and Control android app \"Kiddobot\""
   ]
  },
  {
   "cell_type": "markdown",
   "metadata": {},
   "source": [
    "### Callback functions"
   ]
  },
  {
   "cell_type": "code",
   "execution_count": 3,
   "metadata": {},
   "outputs": [],
   "source": [
    "def on_message(ws, message):\n",
    "    print(message)\n",
    "\n",
    "def on_error(ws, error):\n",
    "    print(error)\n",
    "\n",
    "def on_close(ws):\n",
    "    print(\"### closed ###\")\n",
    "\n",
    "def on_open(ws):\n",
    "    print('onopen')"
   ]
  },
  {
   "cell_type": "markdown",
   "metadata": {},
   "source": [
    "### Create Connection with the app\n",
    "\n",
    "<b> Double press on the app screen to get ip address </b>"
   ]
  },
  {
   "cell_type": "code",
   "execution_count": 4,
   "metadata": {},
   "outputs": [],
   "source": [
    "websocket.enableTrace(True)\n",
    "ws = websocket.WebSocketApp(\"ws://192.168.0.100:8000\",  on_message = on_message,  on_error = on_error, on_close = on_close)\n",
    "ws.on_open = on_open"
   ]
  },
  {
   "cell_type": "code",
   "execution_count": 7,
   "metadata": {},
   "outputs": [
    {
     "data": {
      "text/plain": [
       "10656"
      ]
     },
     "execution_count": 7,
     "metadata": {},
     "output_type": "execute_result"
    },
    {
     "name": "stderr",
     "output_type": "stream",
     "text": [
      "--- request header ---\n",
      "GET / HTTP/1.1\n",
      "Upgrade: websocket\n",
      "Host: 192.168.0.100:8000\n",
      "Origin: http://192.168.0.100:8000\n",
      "Sec-WebSocket-Key: hQNs48r6IRqQ0DOorynsIA==\n",
      "Sec-WebSocket-Version: 13\n",
      "Connection: upgrade\n",
      "\n",
      "\n",
      "-----------------------\n",
      "--- response header ---\n",
      "HTTP/1.1 101 Switching Protocols\n",
      "Connection: Upgrade\n",
      "Upgrade: websocket\n",
      "Sec-WebSocket-Accept: PA+d6XYcCnL0hH2nSOYCKAPLJhA=\n",
      "-----------------------\n"
     ]
    },
    {
     "name": "stdout",
     "output_type": "stream",
     "text": [
      "onopen\n",
      "{\"data\":\"tts_completed\"}\n"
     ]
    }
   ],
   "source": [
    "def run(*args):\n",
    "        ws.run_forever()\n",
    "thread.start_new_thread(run, ())"
   ]
  },
  {
   "cell_type": "markdown",
   "metadata": {},
   "source": [
    "### Speak to app"
   ]
  },
  {
   "cell_type": "code",
   "execution_count": 8,
   "metadata": {},
   "outputs": [
    {
     "name": "stderr",
     "output_type": "stream",
     "text": [
      "send: b'\\x81\\xc9l7\\xe0-\\x17\\x15\\x94T\\x1cR\\xc2\\x17L\\x15\\x94Y\\x1f\\x15\\xcc\\rNS\\x81Y\\r\\x15\\xda\\rNk\\x95\\x1dU\\x0f\\xd6q\\x19\\x07\\xd9L\\tk\\x95\\x1dUU\\x86\\r0B\\xd0\\x14\\x0e\\x07\\xbcX\\\\\\x0e\\x83OLk\\x95\\x1dUV\\x83q\\x19\\x07\\xd9\\x14\\n\\x19\\xc0\\x0f\\x11'\n"
     ]
    },
    {
     "name": "stdout",
     "output_type": "stream",
     "text": [
      "Sent= {\"type\": \"tts\", \"data\": \"\\u0986\\u09ae\\u09bf \\u09b0\\u09cb \\u09ac\\u099f. \"}\n",
      "{\"data\":\"ToTTS=আমি রো বট. \"}\n",
      "{\"data\":\"tts_completed\"}\n"
     ]
    }
   ],
   "source": [
    "data={'type':'tts', 'data': u'আমি রো বট. '}\n",
    "data = json.dumps(data)\n",
    "ws.send(data)\n",
    "print(\"Sent=\",data)"
   ]
  },
  {
   "cell_type": "code",
   "execution_count": 9,
   "metadata": {},
   "outputs": [
    {
     "name": "stderr",
     "output_type": "stream",
     "text": [
      "send: b'\\x81\\xb7\\xe8FxS\\x93d\\x0c*\\x98#Zi\\xc8d\\x0c\\'\\x9bdTs\\xca\"\\x19\\'\\x89dBs\\xcaf$&\\xd8\\x7f\\x1ak\\xc8\\x1a\\rc\\xd1$H\\x0f\\x9dvA0\\xdff$&\\xd8\\x7f@f\\xc8d\\x05'\n"
     ]
    },
    {
     "name": "stdout",
     "output_type": "stream",
     "text": [
      "Sent= {\"type\": \"tts\", \"data\": \" \\u09b8 \\u09b0\\u09c7 \\u0985 \"}\n",
      "{\"data\":\"ToTTS= স রে অ \"}\n",
      "{\"data\":\"tts_completed\"}\n"
     ]
    }
   ],
   "source": [
    "data={'type':'tts', 'data': u' স রে অ '}\n",
    "data = json.dumps(data)\n",
    "ws.send(data)\n",
    "print(\"Sent=\",data)"
   ]
  },
  {
   "cell_type": "markdown",
   "metadata": {},
   "source": [
    "### Speech recognition"
   ]
  },
  {
   "cell_type": "code",
   "execution_count": 10,
   "metadata": {},
   "outputs": [
    {
     "name": "stderr",
     "output_type": "stream",
     "text": [
      "send: b'\\x81\\x8f\\x15iW\\xc2nK#\\xbbe\\x0cu\\xf85K6\\xb1gK*'\n"
     ]
    },
    {
     "name": "stdout",
     "output_type": "stream",
     "text": [
      "Sent= {\"type\": \"asr\"}\n",
      "{\"data\":\"ToASR=null\"}\n",
      "{\"data\":\"হ্যালো\",\"datas\":\"[হ্যালো, হেলো, হ্যালোঃ]\"}\n"
     ]
    }
   ],
   "source": [
    "data={'type':'asr' }\n",
    "data = json.dumps(data)\n",
    "ws.send(data)\n",
    "print(\"Sent=\",data)"
   ]
  },
  {
   "cell_type": "markdown",
   "metadata": {},
   "source": [
    "### Close Connection"
   ]
  },
  {
   "cell_type": "code",
   "execution_count": 11,
   "metadata": {},
   "outputs": [
    {
     "name": "stderr",
     "output_type": "stream",
     "text": [
      "send: b'\\x88\\x82\\xde\\xa8\\xf2\\x1d\\xdd@'\n"
     ]
    },
    {
     "name": "stdout",
     "output_type": "stream",
     "text": [
      "### closed ###\n"
     ]
    }
   ],
   "source": [
    "ws.close()"
   ]
  },
  {
   "cell_type": "code",
   "execution_count": null,
   "metadata": {},
   "outputs": [],
   "source": []
  }
 ],
 "metadata": {
  "kernelspec": {
   "display_name": "Python 3",
   "language": "python",
   "name": "python3"
  },
  "language_info": {
   "codemirror_mode": {
    "name": "ipython",
    "version": 3
   },
   "file_extension": ".py",
   "mimetype": "text/x-python",
   "name": "python",
   "nbconvert_exporter": "python",
   "pygments_lexer": "ipython3",
   "version": "3.7.6"
  }
 },
 "nbformat": 4,
 "nbformat_minor": 2
}
