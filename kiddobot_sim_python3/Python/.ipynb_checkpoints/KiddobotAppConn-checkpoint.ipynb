{
 "cells": [
  {
   "cell_type": "code",
   "execution_count": 1,
   "metadata": {},
   "outputs": [],
   "source": [
    "import websocket\n",
    "try:\n",
    "    import thread\n",
    "except ImportError:\n",
    "    import _thread as thread\n",
    "import time\n",
    "import json"
   ]
  },
  {
   "cell_type": "markdown",
   "metadata": {},
   "source": [
    "### Command and Control android app \"Kiddobot\""
   ]
  },
  {
   "cell_type": "markdown",
   "metadata": {},
   "source": [
    "### Callback functions"
   ]
  },
  {
   "cell_type": "code",
   "execution_count": 2,
   "metadata": {},
   "outputs": [],
   "source": [
    "def on_message(ws, message):\n",
    "    print(message)\n",
    "\n",
    "def on_error(ws, error):\n",
    "    print(error)\n",
    "\n",
    "def on_close(ws):\n",
    "    print(\"### closed ###\")\n",
    "\n",
    "def on_open(ws):\n",
    "    print('onopen')"
   ]
  },
  {
   "cell_type": "markdown",
   "metadata": {},
   "source": [
    "### Create Connection with the app\n",
    "\n",
    "<b> Double press on the app screen to get ip address </b>"
   ]
  },
  {
   "cell_type": "code",
   "execution_count": 3,
   "metadata": {},
   "outputs": [],
   "source": [
    "websocket.enableTrace(True)\n",
    "ws = websocket.WebSocketApp(\"ws://192.168.0.100:8000\",  on_message = on_message,  on_error = on_error, on_close = on_close)\n",
    "ws.on_open = on_open"
   ]
  },
  {
   "cell_type": "code",
   "execution_count": 4,
   "metadata": {},
   "outputs": [
    {
     "data": {
      "text/plain": [
       "10856"
      ]
     },
     "execution_count": 4,
     "metadata": {},
     "output_type": "execute_result"
    },
    {
     "name": "stderr",
     "output_type": "stream",
     "text": [
      "--- request header ---\n",
      "GET / HTTP/1.1\n",
      "Upgrade: websocket\n",
      "Host: 192.168.0.100:8000\n",
      "Origin: http://192.168.0.100:8000\n",
      "Sec-WebSocket-Key: gu0Wg1ObYSs99fAmasUVAg==\n",
      "Sec-WebSocket-Version: 13\n",
      "Connection: upgrade\n",
      "\n",
      "\n",
      "-----------------------\n",
      "--- response header ---\n",
      "HTTP/1.1 101 Switching Protocols\n",
      "Connection: Upgrade\n",
      "Upgrade: websocket\n",
      "Sec-WebSocket-Accept: zh8UxfGVXrBkbGbQfTaH7YYZbAU=\n",
      "-----------------------\n"
     ]
    },
    {
     "name": "stdout",
     "output_type": "stream",
     "text": [
      "onopen\n",
      "{\"data\":\"tts_completed\"}\n"
     ]
    }
   ],
   "source": [
    "def run(*args):\n",
    "        ws.run_forever()\n",
    "thread.start_new_thread(run, ())"
   ]
  },
  {
   "cell_type": "markdown",
   "metadata": {},
   "source": [
    "### Speak to app"
   ]
  },
  {
   "cell_type": "code",
   "execution_count": 5,
   "metadata": {},
   "outputs": [
    {
     "name": "stderr",
     "output_type": "stream",
     "text": [
      "send: b'\\x81\\xc9.yL\\xebU[8\\x92^\\x1cn\\xd1\\x0e[8\\x9f][`\\xcb\\x0c\\x1d-\\x9fO[v\\xcb\\x0c%9\\xdb\\x17Az\\xb7[Iu\\x8aK%9\\xdb\\x17\\x1b*\\xcbr\\x0c|\\xd2LI\\x10\\x9e\\x1e@/\\x89\\x0e%9\\xdb\\x17\\x18/\\xb7[Iu\\xd2HWl\\xc9S'\n"
     ]
    },
    {
     "name": "stdout",
     "output_type": "stream",
     "text": [
      "Sent= {\"type\": \"tts\", \"data\": \"\\u0986\\u09ae\\u09bf \\u09b0\\u09cb \\u09ac\\u099f. \"}\n",
      "{\"data\":\"ToTTS=আমি রো বট. \"}\n",
      "{\"data\":\"tts_completed\"}\n"
     ]
    }
   ],
   "source": [
    "data={'type':'tts', 'data': u'আমি রো বট. '}\n",
    "data = json.dumps(data)\n",
    "ws.send(data)\n",
    "print(\"Sent=\",data)"
   ]
  },
  {
   "cell_type": "code",
   "execution_count": 6,
   "metadata": {},
   "outputs": [
    {
     "name": "stderr",
     "output_type": "stream",
     "text": [
      "send: b'\\x81\\xb7va\\x16\\xba\\rCb\\xc3\\x06\\x044\\x80VCb\\xce\\x05C:\\x9aT\\x05w\\xce\\x17C,\\x9aTAJ\\xcfFXt\\x82V=c\\x8aO\\x03&\\xe6\\x03Q/\\xd9AAJ\\xcfFX.\\x8fVCk'\n"
     ]
    },
    {
     "name": "stdout",
     "output_type": "stream",
     "text": [
      "Sent= {\"type\": \"tts\", \"data\": \" \\u09b8 \\u09b0\\u09c7 \\u0985 \"}\n",
      "{\"data\":\"ToTTS= স রে অ \"}\n",
      "{\"data\":\"tts_completed\"}\n"
     ]
    }
   ],
   "source": [
    "data={'type':'tts', 'data': u' স রে অ '}\n",
    "data = json.dumps(data)\n",
    "ws.send(data)\n",
    "print(\"Sent=\",data)"
   ]
  },
  {
   "cell_type": "markdown",
   "metadata": {},
   "source": [
    "### Speech recognition"
   ]
  },
  {
   "cell_type": "code",
   "execution_count": 7,
   "metadata": {},
   "outputs": [
    {
     "name": "stderr",
     "output_type": "stream",
     "text": [
      "send: b'\\x81\\x8f}\\x92\\xe0:\\x06\\xb0\\x94C\\r\\xf7\\xc2\\x00]\\xb0\\x81I\\x0f\\xb0\\x9d'\n"
     ]
    },
    {
     "name": "stdout",
     "output_type": "stream",
     "text": [
      "Sent= {\"type\": \"asr\"}\n",
      "{\"data\":\"ToASR=null\"}\n",
      "{\"data\":\"কি করো\",\"datas\":\"[কি করো, কী করো]\"}\n"
     ]
    }
   ],
   "source": [
    "data={'type':'asr' }\n",
    "data = json.dumps(data)\n",
    "ws.send(data)\n",
    "print(\"Sent=\",data)"
   ]
  },
  {
   "cell_type": "markdown",
   "metadata": {},
   "source": [
    "### Close Connection"
   ]
  },
  {
   "cell_type": "code",
   "execution_count": 8,
   "metadata": {},
   "outputs": [
    {
     "name": "stderr",
     "output_type": "stream",
     "text": [
      "send: b'\\x88\\x82\\\\\\xd5\\xfd\\x97_='\n"
     ]
    },
    {
     "name": "stdout",
     "output_type": "stream",
     "text": [
      "### closed ###\n"
     ]
    }
   ],
   "source": [
    "ws.close()"
   ]
  },
  {
   "cell_type": "code",
   "execution_count": null,
   "metadata": {},
   "outputs": [],
   "source": []
  }
 ],
 "metadata": {
  "kernelspec": {
   "display_name": "Python 3",
   "language": "python",
   "name": "python3"
  },
  "language_info": {
   "codemirror_mode": {
    "name": "ipython",
    "version": 3
   },
   "file_extension": ".py",
   "mimetype": "text/x-python",
   "name": "python",
   "nbconvert_exporter": "python",
   "pygments_lexer": "ipython3",
   "version": "3.7.0"
  }
 },
 "nbformat": 4,
 "nbformat_minor": 2
}
